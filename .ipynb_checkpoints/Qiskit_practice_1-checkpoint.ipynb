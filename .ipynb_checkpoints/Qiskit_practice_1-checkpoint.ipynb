{
 "cells": [
  {
   "cell_type": "code",
   "execution_count": 1,
   "id": "d1a13de3-b861-422d-9d4d-37ae7feec0fb",
   "metadata": {},
   "outputs": [
    {
     "data": {
      "text/plain": [
       "'Statevector([1.+0.j, 0.+0.j, 0.+0.j, 0.+0.j],\\n            dims=(2, 2))'"
      ]
     },
     "execution_count": 1,
     "metadata": {},
     "output_type": "execute_result"
    }
   ],
   "source": [
    "from qiskit import QuantumCircuit\n",
    "from qiskit.quantum_info import Statevector\n",
    "\n",
    "qc = QuantumCircuit(2)\n",
    "# This calculates what the state vector of our qubits would be\n",
    "# after passing through the circuit 'qc'\n",
    "ket = Statevector(qc)\n",
    "# The code below writes down the state vector.\n",
    "# Since it's the last line in the cell, the cell will display it as output\n",
    "ket.draw()"
   ]
  },
  {
   "cell_type": "code",
   "execution_count": null,
   "id": "fb932153-709f-4bec-ba4c-2efb3ae8a259",
   "metadata": {},
   "outputs": [],
   "source": []
  }
 ],
 "metadata": {
  "kernelspec": {
   "display_name": "Qiskit-practice",
   "language": "python",
   "name": "qiskit_practice"
  },
  "language_info": {
   "codemirror_mode": {
    "name": "ipython",
    "version": 3
   },
   "file_extension": ".py",
   "mimetype": "text/x-python",
   "name": "python",
   "nbconvert_exporter": "python",
   "pygments_lexer": "ipython3",
   "version": "3.10.18"
  }
 },
 "nbformat": 4,
 "nbformat_minor": 5
}
